{
 "cells": [
  {
   "cell_type": "code",
   "execution_count": 1,
   "metadata": {},
   "outputs": [],
   "source": [
    "import os.path\n",
    "import requests\n",
    "\n",
    "import pandas as pd\n",
    "import numpy as np\n",
    "import random as rnd\n",
    "import matplotlib.pyplot as plt\n",
    "\n",
    "import scipy.stats as st\n",
    "import scipy.special as sp\n",
    "%matplotlib inline"
   ]
  },
  {
   "cell_type": "code",
   "execution_count": 2,
   "metadata": {},
   "outputs": [],
   "source": [
    "# https://www.kaggle.com/datasets/uom190346a/sleep-health-and-lifestyle-dataset/download?datasetVersionNumber=1\n",
    "\n",
    "\n",
    "# load data from csv file to pandas dataframe\n",
    "data = pd.read_csv('data\\sleep_health_and_lifestyle_dataset.csv')\n"
   ]
  },
  {
   "cell_type": "code",
   "execution_count": 16,
   "metadata": {},
   "outputs": [
    {
     "name": "stdout",
     "output_type": "stream",
     "text": [
      "count    144.000000\n",
      "mean       7.017361\n",
      "std        0.927914\n",
      "min        5.900000\n",
      "25%        6.100000\n",
      "50%        7.300000\n",
      "75%        8.000000\n",
      "max        8.200000\n",
      "Name: Sleep Duration, dtype: float64\n",
      "7.132085561497325\n",
      "6.970422535211269\n",
      "TtestResult(statistic=-0.2885832238979173, pvalue=0.6131234104238817, df=70)\n",
      "TtestResult(statistic=-1.4637899759655402, pvalue=0.14659034580982508, df=93.91937154934297)\n"
     ]
    },
    {
     "data": {
      "image/png": "[encoded data removed]",
      "text/plain": [
       "<Figure size 640x480 with 1 Axes>"
      ]
     },
     "metadata": {},
     "output_type": "display_data"
    }
   ],
   "source": [
    "sleep_duration_all = data['Sleep Duration']\n",
    "sleep_duration_nurses = data['Sleep Duration'][data['Occupation'] == 'Nurse']\n",
    "sleep_duration_doctors = data['Sleep Duration'][data['Occupation'] == 'Doctor']\n",
    "sleep_duration_SE = data['Sleep Duration'][data['Occupation'] == 'Software Engineer']\n",
    "\n",
    "\n",
    "sleep_duration_all.hist(bins=50)\n",
    "sleep_duration_doctors.hist(bins=50)\n",
    "sleep_duration_SE.hist(bins=50)\n",
    "\n",
    "print(sleep_duration_all.mean())\n",
    "print(sleep_duration_doctors.mean())\n",
    "\n",
    "t = st.ttest_1samp(sleep_duration_doctors, 7, alternative=\"greater\")\n",
    "# t = st.ttest_1samp(sleep_duration_all, 7, nan_policy='omit', alternative=\"less\")\n",
    "\n",
    "t_test = st.ttest_ind(sleep_duration_doctors, sleep_duration_all, equal_var=False, alternative=\"two-sided\")\n",
    "print(t)\n",
    "print(t_test)"
   ]
  },
  {
   "cell_type": "code",
   "execution_count": 9,
   "metadata": {},
   "outputs": [
    {
     "name": "stdout",
     "output_type": "stream",
     "text": [
      "PearsonRResult(statistic=-0.8987520310040419, pvalue=2.880124240941155e-135)\n"
     ]
    }
   ],
   "source": [
    "stress_all = data['Stress Level']\n",
    "sleep_quality_all = data['Quality of Sleep']\n",
    "sleep_duration_all = data['Sleep Duration']\n",
    "\n",
    "correlation = st.pearsonr(sleep_quality_all, stress_all)\n",
    "print(correlation)\n"
   ]
  }
 ],
 "metadata": {
  "kernelspec": {
   "display_name": "Python 3",
   "language": "python",
   "name": "python3"
  },
  "language_info": {
   "codemirror_mode": {
    "name": "ipython",
    "version": 3
   },
   "file_extension": ".py",
   "mimetype": "text/x-python",
   "name": "python",
   "nbconvert_exporter": "python",
   "pygments_lexer": "ipython3",
   "version": "3.10.9"
  },
  "orig_nbformat": 4
 },
 "nbformat": 4,
 "nbformat_minor": 2
}
